{
 "cells": [
  {
   "cell_type": "code",
   "execution_count": 1,
   "metadata": {
    "collapsed": true
   },
   "outputs": [],
   "source": [
    "# Import packages\n",
    "import numpy as np\n",
    "import pandas as pd\n",
    "import matplotlib.pyplot as plt\n",
    "%matplotlib inline\n",
    "import seaborn as sns\n",
    "import scipy.stats as stats\n",
    "sns.set_style('darkgrid')\n",
    "sns.set_context('talk')\n",
    "sns.set_palette('OrRd')"
   ]
  },
  {
   "cell_type": "code",
   "execution_count": 2,
   "metadata": {},
   "outputs": [
    {
     "data": {
      "text/html": [
       "<div>\n",
       "<style scoped>\n",
       "    .dataframe tbody tr th:only-of-type {\n",
       "        vertical-align: middle;\n",
       "    }\n",
       "\n",
       "    .dataframe tbody tr th {\n",
       "        vertical-align: top;\n",
       "    }\n",
       "\n",
       "    .dataframe thead th {\n",
       "        text-align: right;\n",
       "    }\n",
       "</style>\n",
       "<table border=\"1\" class=\"dataframe\">\n",
       "  <thead>\n",
       "    <tr style=\"text-align: right;\">\n",
       "      <th></th>\n",
       "      <th>FIPS</th>\n",
       "      <th>State</th>\n",
       "      <th>County</th>\n",
       "      <th>hi_diabetes</th>\n",
       "      <th>hi_obesity</th>\n",
       "      <th>RECFACPTH09</th>\n",
       "      <th>FFRPTH09</th>\n",
       "      <th>FSRPTH09</th>\n",
       "      <th>PC_FFRSALES07</th>\n",
       "      <th>PC_FSRSALES07</th>\n",
       "      <th>...</th>\n",
       "      <th>METRO13</th>\n",
       "      <th>POPLOSS10</th>\n",
       "      <th>MEDHHINC15</th>\n",
       "      <th>PCT_LACCESS_POP10</th>\n",
       "      <th>SNAP_PART_RATE08</th>\n",
       "      <th>PCT_NSLP09</th>\n",
       "      <th>PCT_WIC09</th>\n",
       "      <th>PCT_CACFP09</th>\n",
       "      <th>GROCPTH09</th>\n",
       "      <th>WICSPTH08</th>\n",
       "    </tr>\n",
       "  </thead>\n",
       "  <tbody>\n",
       "    <tr>\n",
       "      <th>0</th>\n",
       "      <td>1001</td>\n",
       "      <td>AL</td>\n",
       "      <td>Autauga</td>\n",
       "      <td>1</td>\n",
       "      <td>1</td>\n",
       "      <td>0.073889</td>\n",
       "      <td>0.554170</td>\n",
       "      <td>0.628059</td>\n",
       "      <td>649.511367</td>\n",
       "      <td>484.381507</td>\n",
       "      <td>...</td>\n",
       "      <td>1</td>\n",
       "      <td>0.0</td>\n",
       "      <td>56580.0</td>\n",
       "      <td>33.769657</td>\n",
       "      <td>67</td>\n",
       "      <td>12.315055</td>\n",
       "      <td>2.990417</td>\n",
       "      <td>0.91609</td>\n",
       "      <td>0.110834</td>\n",
       "      <td>0.119156</td>\n",
       "    </tr>\n",
       "    <tr>\n",
       "      <th>1</th>\n",
       "      <td>1003</td>\n",
       "      <td>AL</td>\n",
       "      <td>Baldwin</td>\n",
       "      <td>0</td>\n",
       "      <td>0</td>\n",
       "      <td>0.100331</td>\n",
       "      <td>0.624282</td>\n",
       "      <td>1.125938</td>\n",
       "      <td>649.511367</td>\n",
       "      <td>484.381507</td>\n",
       "      <td>...</td>\n",
       "      <td>1</td>\n",
       "      <td>0.0</td>\n",
       "      <td>52387.0</td>\n",
       "      <td>19.318473</td>\n",
       "      <td>67</td>\n",
       "      <td>12.315055</td>\n",
       "      <td>2.990417</td>\n",
       "      <td>0.91609</td>\n",
       "      <td>0.133775</td>\n",
       "      <td>0.141875</td>\n",
       "    </tr>\n",
       "    <tr>\n",
       "      <th>2</th>\n",
       "      <td>1005</td>\n",
       "      <td>AL</td>\n",
       "      <td>Barbour</td>\n",
       "      <td>1</td>\n",
       "      <td>1</td>\n",
       "      <td>0.036157</td>\n",
       "      <td>0.759301</td>\n",
       "      <td>0.433887</td>\n",
       "      <td>649.511367</td>\n",
       "      <td>484.381507</td>\n",
       "      <td>...</td>\n",
       "      <td>0</td>\n",
       "      <td>0.0</td>\n",
       "      <td>31433.0</td>\n",
       "      <td>20.840972</td>\n",
       "      <td>67</td>\n",
       "      <td>12.315055</td>\n",
       "      <td>2.990417</td>\n",
       "      <td>0.91609</td>\n",
       "      <td>0.180786</td>\n",
       "      <td>0.201099</td>\n",
       "    </tr>\n",
       "    <tr>\n",
       "      <th>3</th>\n",
       "      <td>1007</td>\n",
       "      <td>AL</td>\n",
       "      <td>Bibb</td>\n",
       "      <td>1</td>\n",
       "      <td>1</td>\n",
       "      <td>0.043590</td>\n",
       "      <td>0.305131</td>\n",
       "      <td>0.261540</td>\n",
       "      <td>649.511367</td>\n",
       "      <td>484.381507</td>\n",
       "      <td>...</td>\n",
       "      <td>1</td>\n",
       "      <td>0.0</td>\n",
       "      <td>40767.0</td>\n",
       "      <td>4.559753</td>\n",
       "      <td>67</td>\n",
       "      <td>12.315055</td>\n",
       "      <td>2.990417</td>\n",
       "      <td>0.91609</td>\n",
       "      <td>0.261540</td>\n",
       "      <td>0.277919</td>\n",
       "    </tr>\n",
       "    <tr>\n",
       "      <th>4</th>\n",
       "      <td>1009</td>\n",
       "      <td>AL</td>\n",
       "      <td>Blount</td>\n",
       "      <td>1</td>\n",
       "      <td>1</td>\n",
       "      <td>0.052319</td>\n",
       "      <td>0.418549</td>\n",
       "      <td>0.331351</td>\n",
       "      <td>649.511367</td>\n",
       "      <td>484.381507</td>\n",
       "      <td>...</td>\n",
       "      <td>1</td>\n",
       "      <td>0.0</td>\n",
       "      <td>50487.0</td>\n",
       "      <td>2.700840</td>\n",
       "      <td>67</td>\n",
       "      <td>12.315055</td>\n",
       "      <td>2.990417</td>\n",
       "      <td>0.91609</td>\n",
       "      <td>0.104637</td>\n",
       "      <td>0.173028</td>\n",
       "    </tr>\n",
       "  </tbody>\n",
       "</table>\n",
       "<p>5 rows × 24 columns</p>\n",
       "</div>"
      ],
      "text/plain": [
       "   FIPS State   County  hi_diabetes  hi_obesity  RECFACPTH09  FFRPTH09  \\\n",
       "0  1001    AL  Autauga            1           1     0.073889  0.554170   \n",
       "1  1003    AL  Baldwin            0           0     0.100331  0.624282   \n",
       "2  1005    AL  Barbour            1           1     0.036157  0.759301   \n",
       "3  1007    AL     Bibb            1           1     0.043590  0.305131   \n",
       "4  1009    AL   Blount            1           1     0.052319  0.418549   \n",
       "\n",
       "   FSRPTH09  PC_FFRSALES07  PC_FSRSALES07    ...      METRO13  POPLOSS10  \\\n",
       "0  0.628059     649.511367     484.381507    ...            1        0.0   \n",
       "1  1.125938     649.511367     484.381507    ...            1        0.0   \n",
       "2  0.433887     649.511367     484.381507    ...            0        0.0   \n",
       "3  0.261540     649.511367     484.381507    ...            1        0.0   \n",
       "4  0.331351     649.511367     484.381507    ...            1        0.0   \n",
       "\n",
       "   MEDHHINC15  PCT_LACCESS_POP10  SNAP_PART_RATE08  PCT_NSLP09  PCT_WIC09  \\\n",
       "0     56580.0          33.769657                67   12.315055   2.990417   \n",
       "1     52387.0          19.318473                67   12.315055   2.990417   \n",
       "2     31433.0          20.840972                67   12.315055   2.990417   \n",
       "3     40767.0           4.559753                67   12.315055   2.990417   \n",
       "4     50487.0           2.700840                67   12.315055   2.990417   \n",
       "\n",
       "   PCT_CACFP09  GROCPTH09  WICSPTH08  \n",
       "0      0.91609   0.110834   0.119156  \n",
       "1      0.91609   0.133775   0.141875  \n",
       "2      0.91609   0.180786   0.201099  \n",
       "3      0.91609   0.261540   0.277919  \n",
       "4      0.91609   0.104637   0.173028  \n",
       "\n",
       "[5 rows x 24 columns]"
      ]
     },
     "execution_count": 2,
     "metadata": {},
     "output_type": "execute_result"
    }
   ],
   "source": [
    "counties=pd.read_csv('counties.csv')\n",
    "counties.head()"
   ]
  },
  {
   "cell_type": "markdown",
   "metadata": {},
   "source": [
    "## Confirm data is ready for analysis"
   ]
  },
  {
   "cell_type": "code",
   "execution_count": 3,
   "metadata": {},
   "outputs": [
    {
     "data": {
      "text/plain": [
       "FIPS                 0\n",
       "State                0\n",
       "County               0\n",
       "hi_diabetes          0\n",
       "hi_obesity           0\n",
       "RECFACPTH09          0\n",
       "FFRPTH09             0\n",
       "FSRPTH09             0\n",
       "PC_FFRSALES07        0\n",
       "PC_FSRSALES07        0\n",
       "PCT_NHWHITE10        0\n",
       "PCT_65OLDER10        0\n",
       "PCT_18YOUNGER10      0\n",
       "PERPOV10             0\n",
       "METRO13              0\n",
       "POPLOSS10            0\n",
       "MEDHHINC15           0\n",
       "PCT_LACCESS_POP10    0\n",
       "SNAP_PART_RATE08     0\n",
       "PCT_NSLP09           0\n",
       "PCT_WIC09            0\n",
       "PCT_CACFP09          0\n",
       "GROCPTH09            0\n",
       "WICSPTH08            0\n",
       "dtype: int64"
      ]
     },
     "execution_count": 3,
     "metadata": {},
     "output_type": "execute_result"
    }
   ],
   "source": [
    "# Confirm no missing values\n",
    "counties.isnull().sum()"
   ]
  },
  {
   "cell_type": "code",
   "execution_count": 4,
   "metadata": {},
   "outputs": [
    {
     "data": {
      "text/plain": [
       "FIPS                   int64\n",
       "State                 object\n",
       "County                object\n",
       "hi_diabetes            int64\n",
       "hi_obesity             int64\n",
       "RECFACPTH09          float64\n",
       "FFRPTH09             float64\n",
       "FSRPTH09             float64\n",
       "PC_FFRSALES07        float64\n",
       "PC_FSRSALES07        float64\n",
       "PCT_NHWHITE10        float64\n",
       "PCT_65OLDER10        float64\n",
       "PCT_18YOUNGER10      float64\n",
       "PERPOV10               int64\n",
       "METRO13                int64\n",
       "POPLOSS10            float64\n",
       "MEDHHINC15           float64\n",
       "PCT_LACCESS_POP10    float64\n",
       "SNAP_PART_RATE08       int64\n",
       "PCT_NSLP09           float64\n",
       "PCT_WIC09            float64\n",
       "PCT_CACFP09          float64\n",
       "GROCPTH09            float64\n",
       "WICSPTH08            float64\n",
       "dtype: object"
      ]
     },
     "execution_count": 4,
     "metadata": {},
     "output_type": "execute_result"
    }
   ],
   "source": [
    "# Confirm all columns are numeric\n",
    "counties.dtypes"
   ]
  },
  {
   "cell_type": "code",
   "execution_count": 5,
   "metadata": {},
   "outputs": [
    {
     "data": {
      "text/plain": [
       "FIPS                      1001\n",
       "State                       AK\n",
       "County               Abbeville\n",
       "hi_diabetes                  0\n",
       "hi_obesity                   0\n",
       "RECFACPTH09                  0\n",
       "FFRPTH09                     0\n",
       "FSRPTH09                     0\n",
       "PC_FFRSALES07          402.098\n",
       "PC_FSRSALES07          371.845\n",
       "PCT_NHWHITE10          2.86041\n",
       "PCT_65OLDER10           3.4706\n",
       "PCT_18YOUNGER10        9.11154\n",
       "PERPOV10                     0\n",
       "METRO13                      0\n",
       "POPLOSS10                    0\n",
       "MEDHHINC15               22894\n",
       "PCT_LACCESS_POP10            0\n",
       "SNAP_PART_RATE08            48\n",
       "PCT_NSLP09              6.9543\n",
       "PCT_WIC09              1.38626\n",
       "PCT_CACFP09           0.387918\n",
       "GROCPTH09                    0\n",
       "WICSPTH08                    0\n",
       "dtype: object"
      ]
     },
     "execution_count": 5,
     "metadata": {},
     "output_type": "execute_result"
    }
   ],
   "source": [
    "# Confirm no extreme minimums\n",
    "counties.min()"
   ]
  },
  {
   "cell_type": "code",
   "execution_count": 6,
   "metadata": {},
   "outputs": [
    {
     "data": {
      "text/plain": [
       "FIPS                    56045\n",
       "State                      WY\n",
       "County                Ziebach\n",
       "hi_diabetes                 1\n",
       "hi_obesity                  1\n",
       "RECFACPTH09          0.990099\n",
       "FFRPTH09              6.08828\n",
       "FSRPTH09              13.6986\n",
       "PC_FFRSALES07         1043.86\n",
       "PC_FSRSALES07         1930.16\n",
       "PCT_NHWHITE10         99.1632\n",
       "PCT_65OLDER10         43.3847\n",
       "PCT_18YOUNGER10       40.1269\n",
       "PERPOV10                    1\n",
       "METRO13                     1\n",
       "POPLOSS10                   1\n",
       "MEDHHINC15             125900\n",
       "PCT_LACCESS_POP10         100\n",
       "SNAP_PART_RATE08          100\n",
       "PCT_NSLP09            13.7438\n",
       "PCT_WIC09             5.07887\n",
       "PCT_CACFP09           2.55255\n",
       "GROCPTH09             3.07377\n",
       "WICSPTH08             4.61894\n",
       "dtype: object"
      ]
     },
     "execution_count": 6,
     "metadata": {},
     "output_type": "execute_result"
    }
   ],
   "source": [
    "# Confirm no extreme maximums\n",
    "counties.max()"
   ]
  },
  {
   "cell_type": "code",
   "execution_count": 7,
   "metadata": {},
   "outputs": [
    {
     "name": "stdout",
     "output_type": "stream",
     "text": [
      "Above average diabetes: \n",
      " 0    1669\n",
      "1    1470\n",
      "Name: hi_diabetes, dtype: int64\n",
      "\n",
      "\n",
      "Above average obesity: \n",
      " 1    1641\n",
      "0    1498\n",
      "Name: hi_obesity, dtype: int64\n"
     ]
    }
   ],
   "source": [
    "# Is the target imbalanced?\n",
    "print('Above average diabetes:', '\\n', counties['hi_diabetes'].value_counts())\n",
    "print('\\n')\n",
    "print('Above average obesity:', '\\n', counties['hi_obesity'].value_counts())"
   ]
  },
  {
   "cell_type": "markdown",
   "metadata": {},
   "source": [
    "## Store Features \n",
    "Grocery stores/1,000 pop, 2009\tGROCPTH09  \n",
    "WIC-authorized stores/1,000 pop, 2008\tWICSPTH08"
   ]
  },
  {
   "cell_type": "code",
   "execution_count": 8,
   "metadata": {},
   "outputs": [
    {
     "name": "stdout",
     "output_type": "stream",
     "text": [
      "             hi_diabetes  hi_obesity  GROCPTH09  WICSPTH08\n",
      "hi_diabetes     1.000000    0.490206  -0.052411  -0.003647\n",
      "hi_obesity      0.490206    1.000000  -0.059330   0.027064\n",
      "GROCPTH09      -0.052411   -0.059330   1.000000   0.601898\n",
      "WICSPTH08      -0.003647    0.027064   0.601898   1.000000\n"
     ]
    },
    {
     "data": {
      "image/png": "[encoded data removed]",
      "text/plain": [
       "<matplotlib.figure.Figure at 0x22495da5cf8>"
      ]
     },
     "metadata": {},
     "output_type": "display_data"
    }
   ],
   "source": [
    "# Are they correlated with the target variable?\n",
    "corr=counties[['hi_diabetes', 'hi_obesity', 'GROCPTH09',  'WICSPTH08']].corr()\n",
    "print(corr)\n",
    "new=abs(corr)\n",
    "sns.heatmap(new, cmap='Blues');"
   ]
  },
  {
   "cell_type": "markdown",
   "metadata": {},
   "source": [
    "## Restaurants\n",
    "Fast-food restaurants/1,000 pop, 2009\tFFRPTH09  \n",
    "Full-service restaurants/1,000 pop, 2009\tFSRPTH09  \n",
    "Expenditures per capita, fast food, 2007\tPC_FFRSALES07  \n",
    "Expenditures per capita, restaurants, 2007\tPC_FSRSALES07  "
   ]
  },
  {
   "cell_type": "code",
   "execution_count": 9,
   "metadata": {},
   "outputs": [
    {
     "name": "stdout",
     "output_type": "stream",
     "text": [
      "               hi_diabetes  hi_obesity  FFRPTH09  FSRPTH09  PC_FFRSALES07  \\\n",
      "hi_diabetes       1.000000    0.490206 -0.059065 -0.220093       0.216474   \n",
      "hi_obesity        0.490206    1.000000 -0.143569 -0.261528      -0.066857   \n",
      "FFRPTH09         -0.059065   -0.143569  1.000000  0.360585       0.102889   \n",
      "FSRPTH09         -0.220093   -0.261528  0.360585  1.000000      -0.086175   \n",
      "PC_FFRSALES07     0.216474   -0.066857  0.102889 -0.086175       1.000000   \n",
      "PC_FSRSALES07    -0.195879   -0.356670  0.117193  0.147467       0.495055   \n",
      "\n",
      "               PC_FSRSALES07  \n",
      "hi_diabetes        -0.195879  \n",
      "hi_obesity         -0.356670  \n",
      "FFRPTH09            0.117193  \n",
      "FSRPTH09            0.147467  \n",
      "PC_FFRSALES07       0.495055  \n",
      "PC_FSRSALES07       1.000000  \n"
     ]
    },
    {
     "data": {
      "image/png": "[encoded data removed]",
      "text/plain": [
       "<matplotlib.figure.Figure at 0x22495da53c8>"
      ]
     },
     "metadata": {},
     "output_type": "display_data"
    }
   ],
   "source": [
    "# Are they correlated with the target variable?\n",
    "corr=counties[['hi_diabetes', 'hi_obesity', 'FFRPTH09', 'FSRPTH09', 'PC_FFRSALES07', 'PC_FSRSALES07']].corr()\n",
    "print(corr)\n",
    "new=abs(corr)\n",
    "sns.heatmap(new, cmap='Greens');"
   ]
  },
  {
   "cell_type": "markdown",
   "metadata": {},
   "source": [
    "## Socioeconomic Indicators\n",
    "% White, 2010\tPCT_NHWHITE10  \n",
    "% Population 65 years or older, 2010\tPCT_65OLDER10  \n",
    "% Population under age 18, 2010\tPCT_18YOUNGER10  \n",
    "Persistent-poverty counties, 2010\tPERPOV10  \n",
    "Metro/nonmetro counties, 2010\tMETRO13  \n",
    "Population-loss counties, 2010\tPOPLOSS10  "
   ]
  },
  {
   "cell_type": "code",
   "execution_count": 10,
   "metadata": {},
   "outputs": [
    {
     "name": "stdout",
     "output_type": "stream",
     "text": [
      "                 hi_diabetes  hi_obesity  PCT_NHWHITE10  PCT_65OLDER10  \\\n",
      "hi_diabetes         1.000000    0.490206      -0.140519       0.121354   \n",
      "hi_obesity          0.490206    1.000000      -0.054882      -0.088864   \n",
      "PCT_NHWHITE10      -0.140519   -0.054882       1.000000       0.410673   \n",
      "PCT_65OLDER10       0.121354   -0.088864       0.410673       1.000000   \n",
      "PCT_18YOUNGER10    -0.041196    0.101166      -0.331941      -0.524088   \n",
      "PERPOV10            0.270705    0.227695      -0.414939      -0.105146   \n",
      "METRO13            -0.103833   -0.088502      -0.106872      -0.393456   \n",
      "POPLOSS10           0.036273    0.004175       0.115122       0.356602   \n",
      "\n",
      "                 PCT_18YOUNGER10  PERPOV10   METRO13  POPLOSS10  \n",
      "hi_diabetes            -0.041196  0.270705 -0.103833   0.036273  \n",
      "hi_obesity              0.101166  0.227695 -0.088502   0.004175  \n",
      "PCT_NHWHITE10          -0.331941 -0.414939 -0.106872   0.115122  \n",
      "PCT_65OLDER10          -0.524088 -0.105146 -0.393456   0.356602  \n",
      "PCT_18YOUNGER10         1.000000  0.113820  0.128559  -0.098572  \n",
      "PERPOV10                0.113820  1.000000 -0.163774   0.042797  \n",
      "METRO13                 0.128559 -0.163774  1.000000  -0.236638  \n",
      "POPLOSS10              -0.098572  0.042797 -0.236638   1.000000  \n"
     ]
    },
    {
     "data": {
      "image/png": "[encoded data removed]",
      "text/plain": [
       "<matplotlib.figure.Figure at 0x22496242780>"
      ]
     },
     "metadata": {},
     "output_type": "display_data"
    }
   ],
   "source": [
    "# Are they correlated with the target variable?\n",
    "corr=counties[['hi_diabetes', 'hi_obesity', 'PCT_NHWHITE10', 'PCT_65OLDER10', 'PCT_18YOUNGER10', 'PERPOV10', 'METRO13', 'POPLOSS10']].corr()\n",
    "print(corr)\n",
    "new=abs(corr)\n",
    "sns.heatmap(new, cmap='Reds');"
   ]
  },
  {
   "cell_type": "markdown",
   "metadata": {},
   "source": [
    "# Health and Access to grocery store \n",
    "Population, low access to store (%), 2010\tPCT_LACCESS_POP10  \n",
    "Adult diabetes rate, 2008\tPCT_DIABETES_ADULTS08  \n",
    "Adult obesity rate, 2008\tPCT_OBESE_ADULTS08"
   ]
  },
  {
   "cell_type": "code",
   "execution_count": 12,
   "metadata": {},
   "outputs": [
    {
     "name": "stdout",
     "output_type": "stream",
     "text": [
      "                   hi_diabetes  hi_obesity  PCT_LACCESS_POP10  RECFACPTH09\n",
      "hi_diabetes           1.000000    0.490206          -0.139915    -0.212536\n",
      "hi_obesity            0.490206    1.000000          -0.119935    -0.200134\n",
      "PCT_LACCESS_POP10    -0.139915   -0.119935           1.000000    -0.072931\n",
      "RECFACPTH09          -0.212536   -0.200134          -0.072931     1.000000\n"
     ]
    },
    {
     "data": {
      "image/png": "[encoded data removed]",
      "text/plain": [
       "<matplotlib.figure.Figure at 0x22496537ef0>"
      ]
     },
     "metadata": {},
     "output_type": "display_data"
    }
   ],
   "source": [
    "# Are they correlated with the target variable?\n",
    "corr=counties[['hi_diabetes', 'hi_obesity', 'PCT_LACCESS_POP10', 'RECFACPTH09']].corr()\n",
    "print(corr)\n",
    "new=abs(corr)\n",
    "sns.heatmap(new, cmap='BuPu');"
   ]
  },
  {
   "cell_type": "markdown",
   "metadata": {},
   "source": [
    "## Assistance\n",
    "SNAP participants (% eligible pop), 2008\tSNAP_PART_RATE08  \n",
    "National School Lunch Program participants (% pop), 2009\tPCT_NSLP09   \n",
    "WIC participants (% pop), 2009\tPCT_WIC09  \n",
    "Child & Adult Care (% pop), 2009\tPCT_CACFP09"
   ]
  },
  {
   "cell_type": "code",
   "execution_count": 13,
   "metadata": {},
   "outputs": [
    {
     "name": "stdout",
     "output_type": "stream",
     "text": [
      "                  hi_diabetes  hi_obesity  SNAP_PART_RATE08  PCT_NSLP09  \\\n",
      "hi_diabetes          1.000000    0.490206          0.096709    0.277280   \n",
      "hi_obesity           0.490206    1.000000          0.264111    0.251773   \n",
      "SNAP_PART_RATE08     0.096709    0.264111          1.000000   -0.099042   \n",
      "PCT_NSLP09           0.277280    0.251773         -0.099042    1.000000   \n",
      "PCT_WIC09            0.304256    0.117574         -0.300671    0.520132   \n",
      "PCT_CACFP09         -0.080718    0.009691         -0.122763    0.503007   \n",
      "\n",
      "                  PCT_WIC09  PCT_CACFP09  \n",
      "hi_diabetes        0.304256    -0.080718  \n",
      "hi_obesity         0.117574     0.009691  \n",
      "SNAP_PART_RATE08  -0.300671    -0.122763  \n",
      "PCT_NSLP09         0.520132     0.503007  \n",
      "PCT_WIC09          1.000000     0.173202  \n",
      "PCT_CACFP09        0.173202     1.000000  \n"
     ]
    },
    {
     "data": {
      "image/png": "[encoded data removed]",
      "text/plain": [
       "<matplotlib.figure.Figure at 0x224965ff710>"
      ]
     },
     "metadata": {},
     "output_type": "display_data"
    }
   ],
   "source": [
    "# Are they correlated with the target variable?\n",
    "corr=counties[['hi_diabetes', 'hi_obesity', 'SNAP_PART_RATE08', 'PCT_NSLP09', 'PCT_WIC09', 'PCT_CACFP09']].corr()\n",
    "print(corr)\n",
    "new=abs(corr)\n",
    "sns.heatmap(new, cmap='OrRd');"
   ]
  },
  {
   "cell_type": "markdown",
   "metadata": {},
   "source": [
    "## Is there significant difference in the means of the two groups?"
   ]
  },
  {
   "cell_type": "code",
   "execution_count": 16,
   "metadata": {},
   "outputs": [
    {
     "data": {
      "text/plain": [
       "Ttest_indResult(statistic=6.631168046146687, pvalue=3.906556994913206e-11)"
      ]
     },
     "execution_count": 16,
     "metadata": {},
     "output_type": "execute_result"
    },
    {
     "data": {
      "image/png": "[encoded data removed]",
      "text/plain": [
       "<matplotlib.figure.Figure at 0x22496703e48>"
      ]
     },
     "metadata": {},
     "output_type": "display_data"
    }
   ],
   "source": [
    "# There is no significant difference in the proposed target variable, between groups.\n",
    "sns.barplot(y='PCT_WIC09', x='hi_obesity', data=counties);\n",
    "stats.ttest_ind(counties.loc[counties['hi_obesity']==1, 'PCT_WIC09'], counties.loc[counties['hi_obesity']==0, 'PCT_WIC09'])"
   ]
  },
  {
   "cell_type": "code",
   "execution_count": 17,
   "metadata": {},
   "outputs": [
    {
     "data": {
      "text/plain": [
       "Ttest_indResult(statistic=17.889157598220404, pvalue=3.146170778928962e-68)"
      ]
     },
     "execution_count": 17,
     "metadata": {},
     "output_type": "execute_result"
    },
    {
     "data": {
      "image/png": "[encoded data removed]",
      "text/plain": [
       "<matplotlib.figure.Figure at 0x2249672a710>"
      ]
     },
     "metadata": {},
     "output_type": "display_data"
    }
   ],
   "source": [
    "# There is no significant difference in the proposed target variable, between groups.\n",
    "sns.barplot(y='PCT_WIC09', x='hi_diabetes', data=counties);\n",
    "stats.ttest_ind(counties.loc[counties['hi_diabetes']==1, 'PCT_WIC09'], counties.loc[counties['hi_diabetes']==0, 'PCT_WIC09'])"
   ]
  },
  {
   "cell_type": "code",
   "execution_count": null,
   "metadata": {
    "collapsed": true
   },
   "outputs": [],
   "source": []
  }
 ],
 "metadata": {
  "kernelspec": {
   "display_name": "Python [default]",
   "language": "python",
   "name": "python3"
  },
  "language_info": {
   "codemirror_mode": {
    "name": "ipython",
    "version": 3
   },
   "file_extension": ".py",
   "mimetype": "text/x-python",
   "name": "python",
   "nbconvert_exporter": "python",
   "pygments_lexer": "ipython3",
   "version": "3.6.3"
  }
 },
 "nbformat": 4,
 "nbformat_minor": 2
}
